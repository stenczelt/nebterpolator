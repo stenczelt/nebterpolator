{
 "cells": [
  {
   "cell_type": "code",
   "execution_count": 1,
   "metadata": {},
   "outputs": [],
   "source": [
    "import nebterpolator\n",
    "from nebterpolator import path_operations"
   ]
  },
  {
   "cell_type": "code",
   "execution_count": 2,
   "metadata": {},
   "outputs": [],
   "source": [
    "import numpy as np\n",
    "import ase.io"
   ]
  },
  {
   "cell_type": "code",
   "execution_count": 3,
   "metadata": {},
   "outputs": [
    {
     "data": {
      "text/plain": [
       "126"
      ]
     },
     "execution_count": 3,
     "metadata": {},
     "output_type": "execute_result"
    }
   ],
   "source": [
    "traj = ase.io.read(\"traj.xyz\", \"::4\")\n",
    "ase.io.write(\"traj_4.xyz\", traj)\n",
    "len(traj)"
   ]
  },
  {
   "cell_type": "code",
   "execution_count": 4,
   "metadata": {},
   "outputs": [
    {
     "data": {
      "text/plain": [
       "(126, 9, 3)"
      ]
     },
     "execution_count": 4,
     "metadata": {},
     "output_type": "execute_result"
    }
   ],
   "source": [
    "pos_nm = np.array([at.get_positions() for at in traj]) * 0.1\n",
    "pos_save = pos_nm.copy()\n",
    "\n",
    "pos_nm.shape  # so this is (n_frames, n_atoms, 3)"
   ]
  },
  {
   "cell_type": "code",
   "execution_count": 5,
   "metadata": {},
   "outputs": [
    {
     "data": {
      "text/plain": [
       "['C', 'O', 'O', 'C', 'C', 'H', 'H', 'H', 'H']"
      ]
     },
     "execution_count": 5,
     "metadata": {},
     "output_type": "execute_result"
    }
   ],
   "source": [
    "chemical_symbols = traj[0].get_chemical_symbols()\n",
    "chemical_symbols"
   ]
  },
  {
   "cell_type": "code",
   "execution_count": null,
   "metadata": {
    "scrolled": true
   },
   "outputs": [
    {
     "name": "stdout",
     "output_type": "stream",
     "text": [
      "Initial: LSq: 0.0000 Distance: 0.0000 Angle: 0.0000 Dihedral: 0.0000 Morse:  0.0000\n",
      "Final: LSq: 0.0000 (+0.0000) Distance: 0.0000 (+0.0000) Angle: 0.0000 (+0.0000) Dihedral: 0.0000 (+0.0000) Morse:  0.0000 (+0.0000)\n",
      "\r",
      "Working on frame 0 / 126 Initial: LSq: 0.1769 Distance: 0.0005 Angle: 0.0013 Dihedral: 0.1751 Morse:  0.0000\n"
     ]
    },
    {
     "name": "stderr",
     "output_type": "stream",
     "text": [
      "/home/tks32/programs/miniconda3/envs/py2/lib/python2.7/site-packages/nebterpolator/inversion.py:161: FutureWarning: comparison to `None` will result in an elementwise object comparison in the future.\n",
      "  if xref != None:\n",
      "/home/tks32/programs/miniconda3/envs/py2/lib/python2.7/site-packages/nebterpolator/inversion.py:189: FutureWarning: comparison to `None` will result in an elementwise object comparison in the future.\n",
      "  if xrefi != None:\n",
      "/home/tks32/programs/miniconda3/envs/py2/lib/python2.7/site-packages/nebterpolator/inversion.py:228: FutureWarning: comparison to `None` will result in an elementwise object comparison in the future.\n",
      "  if xrefi != None:\n"
     ]
    },
    {
     "name": "stdout",
     "output_type": "stream",
     "text": [
      "Final: LSq: 0.0004 (-0.1765) Distance: 0.0002 (-0.0003) Angle: 0.0002 (-0.0011) Dihedral: 0.0000 (-0.1751) Morse:  0.0000 (+0.0000)\n",
      "Initial: LSq: 0.1968 Distance: 0.0012 Angle: 0.0026 Dihedral: 0.1930 Morse:  0.0000\n",
      "Final: LSq: 0.0007 (-0.1960) Distance: 0.0004 (-0.0008) Angle: 0.0003 (-0.0022) Dihedral: 0.0000 (-0.1930) Morse:  0.0000 (+0.0000)\n",
      "Initial: LSq: 0.0098 Distance: 0.0014 Angle: 0.0048 Dihedral: 0.0036 Morse:  0.0000\n",
      "Final: LSq: 0.0009 (-0.0088) Distance: 0.0003 (-0.0010) Angle: 0.0004 (-0.0044) Dihedral: 0.0002 (-0.0034) Morse:  0.0000 (+0.0000)\n",
      "Initial: LSq: 0.2188 Distance: 0.0011 Angle: 0.0048 Dihedral: 0.2129 Morse:  0.0000\n",
      "Final: LSq: 0.0009 (-0.2179) Distance: 0.0001 (-0.0009) Angle: 0.0003 (-0.0046) Dihedral: 0.0005 (-0.2124) Morse:  0.0000 (+0.0000)\n",
      "Initial: LSq: 0.2219 Distance: 0.0006 Angle: 0.0044 Dihedral: 0.2169 Morse:  0.0000\n",
      "Final: LSq: 0.0004 (-0.2216) Distance: 0.0001 (-0.0006) Angle: 0.0001 (-0.0043) Dihedral: 0.0002 (-0.2167) Morse:  0.0000 (+0.0000)\n",
      "Initial: LSq: 0.1386 Distance: 0.0008 Angle: 0.0049 Dihedral: 0.1328 Morse:  0.0000\n",
      "Final: LSq: 0.0001 (-0.1384) Distance: 0.0000 (-0.0008) Angle: 0.0001 (-0.0049) Dihedral: 0.0000 (-0.1328) Morse:  0.0000 (+0.0000)\n",
      "Initial: LSq: 0.0904 Distance: 0.0020 Angle: 0.0054 Dihedral: 0.0829 Morse:  0.0000\n",
      "Final: LSq: 0.0001 (-0.0903) Distance: 0.0000 (-0.0020) Angle: 0.0000 (-0.0054) Dihedral: 0.0000 (-0.0829) Morse:  0.0000 (+0.0000)\n",
      "Initial: LSq: 0.0178 Distance: 0.0029 Angle: 0.0045 Dihedral: 0.0104 Morse:  0.0000\n",
      "Final: LSq: 0.0000 (-0.0178) Distance: 0.0000 (-0.0029) Angle: 0.0000 (-0.0045) Dihedral: 0.0000 (-0.0104) Morse:  0.0000 (+0.0000)\n",
      "Initial: LSq: 0.0089 Distance: 0.0023 Angle: 0.0033 Dihedral: 0.0034 Morse:  0.0000\n",
      "Final: LSq: 0.0000 (-0.0089) Distance: 0.0000 (-0.0023) Angle: 0.0000 (-0.0033) Dihedral: 0.0000 (-0.0034) Morse:  0.0000 (+0.0000)\n",
      "Initial: LSq: 0.0049 Distance: 0.0006 Angle: 0.0009 Dihedral: 0.0034 Morse:  0.0000\n",
      "Final: LSq: 0.0000 (-0.0049) Distance: 0.0000 (-0.0006) Angle: 0.0000 (-0.0009) Dihedral: 0.0000 (-0.0034) Morse:  0.0000 (+0.0000)\n",
      "Working on frame 10 / 126 Initial: LSq: 0.0669 Distance: 0.0003 Angle: 0.0005 Dihedral: 0.0661 Morse:  0.0000\n",
      "Final: LSq: 0.0000 (-0.0669) Distance: 0.0000 (-0.0003) Angle: 0.0000 (-0.0005) Dihedral: 0.0000 (-0.0661) Morse:  0.0000 (+0.0000)\n",
      "Initial: LSq: 0.1696 Distance: 0.0017 Angle: 0.0009 Dihedral: 0.1670 Morse:  0.0000\n",
      "Final: LSq: 0.0000 (-0.1696) Distance: 0.0000 (-0.0017) Angle: 0.0000 (-0.0009) Dihedral: 0.0000 (-0.1670) Morse:  0.0000 (+0.0000)\n",
      "Initial: LSq: 0.0227 Distance: 0.0029 Angle: 0.0039 Dihedral: 0.0159 Morse:  0.0000\n",
      "Final: LSq: 0.0000 (-0.0227) Distance: 0.0000 (-0.0029) Angle: 0.0000 (-0.0039) Dihedral: 0.0000 (-0.0159) Morse:  0.0000 (+0.0000)\n",
      "Initial: LSq: 0.0219 Distance: 0.0023 Angle: 0.0057 Dihedral: 0.0138 Morse:  0.0000\n",
      "Final: LSq: 0.0000 (-0.0218) Distance: 0.0000 (-0.0023) Angle: 0.0000 (-0.0057) Dihedral: 0.0000 (-0.0138) Morse:  0.0000 (+0.0000)\n",
      "Initial: LSq: 0.0100 Distance: 0.0010 Angle: 0.0051 Dihedral: 0.0039 Morse:  0.0000\n",
      "Final: LSq: 0.0000 (-0.0100) Distance: 0.0000 (-0.0010) Angle: 0.0000 (-0.0051) Dihedral: 0.0000 (-0.0039) Morse:  0.0000 (+0.0000)\n",
      "Initial: LSq: 0.0102 Distance: 0.0011 Angle: 0.0042 Dihedral: 0.0050 Morse:  0.0000\n",
      "Final: LSq: 0.0000 (-0.0102) Distance: 0.0000 (-0.0011) Angle: 0.0000 (-0.0041) Dihedral: 0.0000 (-0.0050) Morse:  0.0000 (+0.0000)\n",
      "Initial: LSq: 0.0424 Distance: 0.0017 Angle: 0.0050 Dihedral: 0.0357 Morse:  0.0000\n",
      "Final: LSq: 0.0000 (-0.0424) Distance: 0.0000 (-0.0017) Angle: 0.0000 (-0.0050) Dihedral: 0.0000 (-0.0357) Morse:  0.0000 (+0.0000)\n",
      "Initial: LSq: 0.0592 Distance: 0.0021 Angle: 0.0047 Dihedral: 0.0524 Morse:  0.0000\n",
      "Final: LSq: 0.0000 (-0.0591) Distance: 0.0000 (-0.0021) Angle: 0.0000 (-0.0046) Dihedral: 0.0000 (-0.0524) Morse:  0.0000 (+0.0000)\n",
      "Initial: LSq: 0.0537 Distance: 0.0025 Angle: 0.0041 Dihedral: 0.0471 Morse:  0.0000\n",
      "Final: LSq: 0.0000 (-0.0537) Distance: 0.0000 (-0.0025) Angle: 0.0000 (-0.0041) Dihedral: 0.0000 (-0.0471) Morse:  0.0000 (+0.0000)\n",
      "Initial: LSq: 0.0232 Distance: 0.0032 Angle: 0.0027 Dihedral: 0.0173 Morse:  0.0000\n",
      "Final: LSq: 0.0000 (-0.0232) Distance: 0.0000 (-0.0032) Angle: 0.0000 (-0.0027) Dihedral: 0.0000 (-0.0173) Morse:  0.0000 (+0.0000)\n",
      "Working on frame 20 / 126 Initial: LSq: 0.0035 Distance: 0.0018 Angle: 0.0009 Dihedral: 0.0008 Morse:  0.0000\n",
      "Final: LSq: 0.0000 (-0.0035) Distance: 0.0000 (-0.0018) Angle: 0.0000 (-0.0009) Dihedral: 0.0000 (-0.0008) Morse:  0.0000 (+0.0000)\n",
      "Initial: LSq: 0.0044 Distance: 0.0012 Angle: 0.0006 Dihedral: 0.0025 Morse:  0.0000\n",
      "Final: LSq: 0.0000 (-0.0043) Distance: 0.0000 (-0.0012) Angle: 0.0000 (-0.0006) Dihedral: 0.0000 (-0.0025) Morse:  0.0000 (+0.0000)\n",
      "Initial: LSq: 0.0071 Distance: 0.0025 Angle: 0.0017 Dihedral: 0.0028 Morse:  0.0000\n",
      "Final: LSq: 0.0000 (-0.0070) Distance: 0.0000 (-0.0025) Angle: 0.0000 (-0.0017) Dihedral: 0.0000 (-0.0028) Morse:  0.0000 (+0.0000)\n",
      "Initial: LSq: 0.0108 Distance: 0.0040 Angle: 0.0039 Dihedral: 0.0029 Morse:  0.0000\n"
     ]
    }
   ],
   "source": [
    "result, errors = path_operations.smooth_internal(pos_nm, chemical_symbols, 7)"
   ]
  },
  {
   "cell_type": "code",
   "execution_count": null,
   "metadata": {},
   "outputs": [],
   "source": [
    "(result - pos_nm).max()"
   ]
  },
  {
   "cell_type": "code",
   "execution_count": null,
   "metadata": {},
   "outputs": [],
   "source": [
    "new_pos_a = result * 10\n",
    "traj_window7 = []\n",
    "for pos in result:\n",
    "    traj_window7.append(ase.Atoms(positions=pos*10, symbols=chemical_symbols, cell=traj[0].cell))\n",
    "ase.io.write(\"traj_window7.xyz\", traj_window7)"
   ]
  },
  {
   "cell_type": "code",
   "execution_count": null,
   "metadata": {},
   "outputs": [],
   "source": [
    "def calc_and_write(i):\n",
    "    result, errors = path_operations.smooth_internal(pos_nm, chemical_symbols, i)\n",
    "    \n",
    "    new_pos_a = result * 10\n",
    "    traj_window = []\n",
    "    for pos in result:\n",
    "        traj_window.append(ase.Atoms(positions=pos*10, symbols=chemical_symbols, cell=traj[0].cell))\n",
    "    ase.io.write(\"traj_window\"+str(i)+\".xyz\", traj_window)"
   ]
  },
  {
   "cell_type": "code",
   "execution_count": null,
   "metadata": {},
   "outputs": [],
   "source": [
    "calc_and_write(15)"
   ]
  },
  {
   "cell_type": "code",
   "execution_count": null,
   "metadata": {
    "scrolled": true
   },
   "outputs": [],
   "source": [
    "calc_and_write(11)"
   ]
  },
  {
   "cell_type": "code",
   "execution_count": null,
   "metadata": {},
   "outputs": [],
   "source": [
    "calc_and_write(21)"
   ]
  },
  {
   "cell_type": "code",
   "execution_count": null,
   "metadata": {},
   "outputs": [],
   "source": [
    "calc_and_write(31)"
   ]
  },
  {
   "cell_type": "markdown",
   "metadata": {},
   "source": [
    "# bond connectivity now"
   ]
  },
  {
   "cell_type": "code",
   "execution_count": 6,
   "metadata": {},
   "outputs": [],
   "source": [
    "from nebterpolator.core import bond_connectivity"
   ]
  },
  {
   "cell_type": "code",
   "execution_count": 7,
   "metadata": {},
   "outputs": [
    {
     "data": {
      "text/plain": [
       "array([[0, 1],\n",
       "       [0, 2],\n",
       "       [3, 4],\n",
       "       [3, 5],\n",
       "       [3, 6],\n",
       "       [4, 7],\n",
       "       [4, 8]])"
      ]
     },
     "execution_count": 7,
     "metadata": {},
     "output_type": "execute_result"
    }
   ],
   "source": [
    "conn = bond_connectivity(pos_nm[0], chemical_symbols)\n",
    "conn"
   ]
  },
  {
   "cell_type": "code",
   "execution_count": 8,
   "metadata": {},
   "outputs": [],
   "source": [
    "minima = ase.io.read(\"opttimised_every5th.xyz\", \":\")"
   ]
  },
  {
   "cell_type": "code",
   "execution_count": 9,
   "metadata": {},
   "outputs": [],
   "source": [
    "pos_minima = np.array([at.get_positions() for at in minima]) * 0.1"
   ]
  },
  {
   "cell_type": "code",
   "execution_count": 10,
   "metadata": {},
   "outputs": [],
   "source": [
    "conn_minima = [bond_connectivity(pos_minima[i], chemical_symbols) for i in range(len(pos_minima))]"
   ]
  },
  {
   "cell_type": "code",
   "execution_count": 12,
   "metadata": {
    "scrolled": true
   },
   "outputs": [
    {
     "data": {
      "text/plain": [
       "[array([[0, 1],\n",
       "        [0, 2],\n",
       "        [3, 4],\n",
       "        [3, 5],\n",
       "        [3, 6],\n",
       "        [4, 7],\n",
       "        [4, 8]]), array([[0, 1],\n",
       "        [0, 2],\n",
       "        [3, 4],\n",
       "        [3, 5],\n",
       "        [3, 6],\n",
       "        [4, 7],\n",
       "        [4, 8]]), array([[0, 1],\n",
       "        [0, 2],\n",
       "        [3, 4],\n",
       "        [3, 5],\n",
       "        [3, 6],\n",
       "        [4, 7],\n",
       "        [4, 8]]), array([[0, 1],\n",
       "        [0, 2],\n",
       "        [3, 4],\n",
       "        [3, 5],\n",
       "        [3, 6],\n",
       "        [4, 7],\n",
       "        [4, 8]]), array([[0, 1],\n",
       "        [0, 2],\n",
       "        [3, 4],\n",
       "        [3, 5],\n",
       "        [3, 6],\n",
       "        [4, 7],\n",
       "        [4, 8]]), array([[0, 1],\n",
       "        [0, 2],\n",
       "        [3, 4],\n",
       "        [3, 5],\n",
       "        [3, 6],\n",
       "        [4, 7],\n",
       "        [4, 8]]), array([[0, 1],\n",
       "        [0, 2],\n",
       "        [3, 4],\n",
       "        [3, 5],\n",
       "        [3, 6],\n",
       "        [4, 7],\n",
       "        [4, 8]]), array([[0, 1],\n",
       "        [0, 2],\n",
       "        [3, 4],\n",
       "        [3, 5],\n",
       "        [3, 6],\n",
       "        [4, 7],\n",
       "        [4, 8]]), array([[0, 1],\n",
       "        [0, 2],\n",
       "        [3, 4],\n",
       "        [3, 5],\n",
       "        [3, 6],\n",
       "        [4, 7],\n",
       "        [4, 8]]), array([[0, 1],\n",
       "        [0, 2],\n",
       "        [2, 7],\n",
       "        [3, 4],\n",
       "        [3, 5],\n",
       "        [3, 6],\n",
       "        [4, 8]]), array([[0, 1],\n",
       "        [0, 2],\n",
       "        [2, 7],\n",
       "        [3, 4],\n",
       "        [3, 5],\n",
       "        [3, 6],\n",
       "        [4, 8]]), array([[0, 1],\n",
       "        [0, 2],\n",
       "        [2, 7],\n",
       "        [3, 4],\n",
       "        [3, 5],\n",
       "        [3, 6],\n",
       "        [4, 8]]), array([[0, 1],\n",
       "        [0, 2],\n",
       "        [2, 7],\n",
       "        [3, 4],\n",
       "        [3, 5],\n",
       "        [3, 6],\n",
       "        [4, 8]]), array([[0, 1],\n",
       "        [0, 2],\n",
       "        [2, 7],\n",
       "        [3, 4],\n",
       "        [3, 5],\n",
       "        [3, 6],\n",
       "        [4, 8]]), array([[0, 1],\n",
       "        [0, 2],\n",
       "        [2, 7],\n",
       "        [3, 4],\n",
       "        [3, 5],\n",
       "        [3, 6],\n",
       "        [4, 8]]), array([[0, 1],\n",
       "        [0, 2],\n",
       "        [2, 7],\n",
       "        [3, 4],\n",
       "        [3, 5],\n",
       "        [3, 6],\n",
       "        [4, 8]]), array([[0, 1],\n",
       "        [0, 2],\n",
       "        [2, 7],\n",
       "        [3, 4],\n",
       "        [3, 5],\n",
       "        [3, 6],\n",
       "        [4, 8]]), array([[0, 1],\n",
       "        [0, 2],\n",
       "        [2, 7],\n",
       "        [3, 4],\n",
       "        [3, 5],\n",
       "        [3, 6],\n",
       "        [4, 8]]), array([[0, 1],\n",
       "        [0, 2],\n",
       "        [2, 7],\n",
       "        [3, 4],\n",
       "        [3, 5],\n",
       "        [3, 6],\n",
       "        [4, 8]]), array([[0, 1],\n",
       "        [0, 2],\n",
       "        [2, 7],\n",
       "        [3, 4],\n",
       "        [3, 5],\n",
       "        [3, 6],\n",
       "        [4, 8]]), array([[0, 1],\n",
       "        [0, 2],\n",
       "        [2, 7],\n",
       "        [3, 4],\n",
       "        [3, 5],\n",
       "        [3, 6],\n",
       "        [4, 8]]), array([[0, 1],\n",
       "        [0, 2],\n",
       "        [2, 7],\n",
       "        [3, 4],\n",
       "        [3, 5],\n",
       "        [3, 6],\n",
       "        [4, 8]]), array([[0, 1],\n",
       "        [0, 2],\n",
       "        [2, 7],\n",
       "        [3, 4],\n",
       "        [3, 5],\n",
       "        [3, 6],\n",
       "        [4, 8]]), array([[0, 1],\n",
       "        [0, 2],\n",
       "        [2, 7],\n",
       "        [3, 4],\n",
       "        [3, 5],\n",
       "        [3, 6],\n",
       "        [4, 8]]), array([[0, 1],\n",
       "        [0, 2],\n",
       "        [2, 7],\n",
       "        [3, 4],\n",
       "        [3, 5],\n",
       "        [3, 6],\n",
       "        [4, 8]]), array([[0, 1],\n",
       "        [0, 2],\n",
       "        [2, 7],\n",
       "        [3, 4],\n",
       "        [3, 5],\n",
       "        [3, 6],\n",
       "        [4, 8]])]"
      ]
     },
     "execution_count": 12,
     "metadata": {},
     "output_type": "execute_result"
    }
   ],
   "source": [
    "conn_minima"
   ]
  },
  {
   "cell_type": "code",
   "execution_count": 13,
   "metadata": {},
   "outputs": [],
   "source": [
    "# >>> G = nx.petersen_graph()\n",
    "# >>> plt.subplot(121)\n",
    "# <matplotlib.axes._subplots.AxesSubplot object at ...>\n",
    "# >>> nx.draw(G, with_labels=True, font_weight='bold')\n",
    "# >>> plt.subplot(122)\n",
    "# <matplotlib.axes._subplots.AxesSubplot object at ...>\n",
    "# >>> nx.draw_shell(G, nlist=[range(5, 10), range(5)], with_labels=True, font_weight='bold')"
   ]
  },
  {
   "cell_type": "code",
   "execution_count": 14,
   "metadata": {},
   "outputs": [],
   "source": [
    "import networkx as nx\n",
    "from matplotlib import  pyplot as plt"
   ]
  },
  {
   "cell_type": "code",
   "execution_count": 15,
   "metadata": {},
   "outputs": [],
   "source": [
    "graph = nx.from_edgelist(conn)"
   ]
  },
  {
   "cell_type": "code",
   "execution_count": 16,
   "metadata": {},
   "outputs": [
    {
     "data": {
      "text/plain": [
       "<networkx.classes.graph.Graph at 0x7f1cd76eac10>"
      ]
     },
     "execution_count": 16,
     "metadata": {},
     "output_type": "execute_result"
    }
   ],
   "source": [
    "# nx.draw(graph)\n",
    "graph"
   ]
  },
  {
   "cell_type": "code",
   "execution_count": 20,
   "metadata": {},
   "outputs": [],
   "source": [
    "colors = {\"H\":\"tab:blue\", \"C\":\"tab:gray\", \"O\":\"tab:red\"}\n",
    "node_colros = [colors[s] for s in chemical_symbols]"
   ]
  },
  {
   "cell_type": "code",
   "execution_count": 21,
   "metadata": {},
   "outputs": [
    {
     "data": {
      "image/png": "[encoded data removed]",
      "text/plain": [
       "<Figure size 432x288 with 1 Axes>"
      ]
     },
     "metadata": {},
     "output_type": "display_data"
    }
   ],
   "source": [
    "plt.subplot(121)\n",
    "nx.draw(graph, with_labels=True, font_weight='bold', node_color=node_colros)"
   ]
  },
  {
   "cell_type": "code",
   "execution_count": 22,
   "metadata": {},
   "outputs": [],
   "source": [
    "minima_graphs = [nx.from_edgelist(ed) for ed in conn_minima]"
   ]
  },
  {
   "cell_type": "code",
   "execution_count": 32,
   "metadata": {},
   "outputs": [
    {
     "name": "stdout",
     "output_type": "stream",
     "text": [
      "[[8, 9]]\n"
     ]
    }
   ],
   "source": [
    "interest = []\n",
    "\n",
    "for i in range(len(minima) - 1):\n",
    "    if not nx.algorithms.is_isomorphic(minima_graphs[i], minima_graphs[i+1]):\n",
    "        interest.append([i, i+1])\n",
    "        \n",
    "print(interest)"
   ]
  },
  {
   "cell_type": "code",
   "execution_count": 29,
   "metadata": {},
   "outputs": [
    {
     "data": {
      "text/plain": [
       "False"
      ]
     },
     "execution_count": 29,
     "metadata": {},
     "output_type": "execute_result"
    }
   ],
   "source": [
    "nx.algorithms.is_isomorphic(minima_graphs[0], minima_graphs[-1])"
   ]
  },
  {
   "cell_type": "code",
   "execution_count": 26,
   "metadata": {},
   "outputs": [
    {
     "data": {
      "text/plain": [
       "array([[0, 1],\n",
       "       [0, 2],\n",
       "       [2, 7],\n",
       "       [3, 4],\n",
       "       [3, 5],\n",
       "       [3, 6],\n",
       "       [4, 8]])"
      ]
     },
     "execution_count": 26,
     "metadata": {},
     "output_type": "execute_result"
    }
   ],
   "source": [
    "conn_minima[-1]"
   ]
  },
  {
   "cell_type": "code",
   "execution_count": 28,
   "metadata": {},
   "outputs": [
    {
     "data": {
      "image/png": "[encoded data removed]",
      "text/plain": [
       "<Figure size 432x288 with 1 Axes>"
      ]
     },
     "metadata": {},
     "output_type": "display_data"
    }
   ],
   "source": [
    "plt.subplot(111)\n",
    "nx.draw(minima_graphs[-1], with_labels=True, font_weight='bold', node_color=node_colros)"
   ]
  },
  {
   "cell_type": "code",
   "execution_count": null,
   "metadata": {},
   "outputs": [],
   "source": []
  }
 ],
 "metadata": {
  "kernelspec": {
   "display_name": "Python 2",
   "language": "python",
   "name": "python2"
  },
  "language_info": {
   "codemirror_mode": {
    "name": "ipython",
    "version": 2
   },
   "file_extension": ".py",
   "mimetype": "text/x-python",
   "name": "python",
   "nbconvert_exporter": "python",
   "pygments_lexer": "ipython2",
   "version": "2.7.18"
  }
 },
 "nbformat": 4,
 "nbformat_minor": 2
}
