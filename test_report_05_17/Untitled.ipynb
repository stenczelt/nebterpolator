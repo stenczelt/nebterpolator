{
 "cells": [
  {
   "cell_type": "code",
   "execution_count": 17,
   "metadata": {},
   "outputs": [],
   "source": [
    "def soap_loop(n_max, l_max, s): \n",
    "    vector = [] \n",
    "    for Z in range(s): # atomic numbers in increasing order: \n",
    "        print(Z)\n",
    "        for Z_ in range(s): #' in atomic numbers in increasing order: \n",
    "            print(Z, Z_)\n",
    "            for l in range(l_max+1): \n",
    "                print(Z, Z_, l)\n",
    "                for n in range(n_max):\n",
    "                    print(Z, Z_, l, n)\n",
    "                    for n_ in range(n_max): \n",
    "                        print(Z, Z_, l, n, n_)\n",
    "                        if n_ >= n and Z_ >= Z: \n",
    "                            vector.append(Z) \n",
    "    print(len(vector), vector) \n"
   ]
  },
  {
   "cell_type": "code",
   "execution_count": 18,
   "metadata": {},
   "outputs": [
    {
     "name": "stdout",
     "output_type": "stream",
     "text": [
      "0\n",
      "0 0\n",
      "0 0 0\n",
      "0 0 0 0\n",
      "0 0 0 0 0\n",
      "0 0 0 0 1\n",
      "0 0 0 1\n",
      "0 0 0 1 0\n",
      "0 0 0 1 1\n",
      "0 1\n",
      "0 1 0\n",
      "0 1 0 0\n",
      "0 1 0 0 0\n",
      "0 1 0 0 1\n",
      "0 1 0 1\n",
      "0 1 0 1 0\n",
      "0 1 0 1 1\n",
      "1\n",
      "1 0\n",
      "1 0 0\n",
      "1 0 0 0\n",
      "1 0 0 0 0\n",
      "1 0 0 0 1\n",
      "1 0 0 1\n",
      "1 0 0 1 0\n",
      "1 0 0 1 1\n",
      "1 1\n",
      "1 1 0\n",
      "1 1 0 0\n",
      "1 1 0 0 0\n",
      "1 1 0 0 1\n",
      "1 1 0 1\n",
      "1 1 0 1 0\n",
      "1 1 0 1 1\n",
      "9 [0, 0, 0, 0, 0, 0, 1, 1, 1]\n"
     ]
    }
   ],
   "source": [
    "soap_loop(2, 0, 2)"
   ]
  },
  {
   "cell_type": "code",
   "execution_count": 8,
   "metadata": {},
   "outputs": [
    {
     "data": {
      "text/plain": [
       "[0, 1]"
      ]
     },
     "execution_count": 8,
     "metadata": {},
     "output_type": "execute_result"
    }
   ],
   "source": [
    "list(range(2))"
   ]
  },
  {
   "cell_type": "code",
   "execution_count": 20,
   "metadata": {},
   "outputs": [],
   "source": [
    "from dscribe.descriptors import SOAP\n",
    "from quippy.descriptors import Descriptor"
   ]
  },
  {
   "cell_type": "code",
   "execution_count": 32,
   "metadata": {},
   "outputs": [
    {
     "name": "stdout",
     "output_type": "stream",
     "text": [
      "  1  0     1     4\n",
      "  2  0     3    11\n",
      "  3  0     6    22\n",
      "  4  0    10    37\n",
      "  5  0    15    56\n",
      "  1  1     2     7\n",
      "  2  1     6    21\n",
      "  3  1    12    43\n",
      "  4  1    20    73\n",
      "  5  1    30   111\n",
      "  1  2     3    10\n",
      "  2  2     9    31\n",
      "  3  2    18    64\n",
      "  4  2    30   109\n",
      "  5  2    45   166\n",
      "  1  3     4    13\n",
      "  2  3    12    41\n",
      "  3  3    24    85\n",
      "  4  3    40   145\n",
      "  5  3    60   221\n",
      "  1  4     5    16\n",
      "  2  4    15    51\n",
      "  3  4    30   106\n",
      "  4  4    50   181\n",
      "  5  4    75   276\n",
      "  1  5     6    19\n",
      "  2  5    18    61\n",
      "  3  5    36   127\n",
      "  4  5    60   217\n",
      "  5  5    90   331\n"
     ]
    }
   ],
   "source": [
    "for l_max in range(6):\n",
    "    for n_max in range(1, 6):\n",
    "        soap_dscribe = SOAP(nmax=n_max, lmax=l_max, sigma=0.5, rcut=4., species=[1, 6])\n",
    "        soap_quippy = Descriptor(\"soap n_max={} l_max={} cutoff=4. atom_sigma=0.5 n_species=2 species_Z={{1 6}}\".format(n_max, l_max)) \n",
    "        print(\"{:3}{:3}{:>6}{:>6}\".format(n_max, l_max, soap_dscribe.get_number_of_element_features(), soap_quippy.dimensions()))"
   ]
  },
  {
   "cell_type": "code",
   "execution_count": 23,
   "metadata": {},
   "outputs": [
    {
     "data": {
      "text/plain": [
       "3"
      ]
     },
     "execution_count": 23,
     "metadata": {},
     "output_type": "execute_result"
    }
   ],
   "source": []
  },
  {
   "cell_type": "code",
   "execution_count": null,
   "metadata": {},
   "outputs": [],
   "source": []
  }
 ],
 "metadata": {
  "kernelspec": {
   "display_name": "Python 3",
   "language": "python",
   "name": "python3"
  },
  "language_info": {
   "codemirror_mode": {
    "name": "ipython",
    "version": 3
   },
   "file_extension": ".py",
   "mimetype": "text/x-python",
   "name": "python",
   "nbconvert_exporter": "python",
   "pygments_lexer": "ipython3",
   "version": "3.7.7"
  }
 },
 "nbformat": 4,
 "nbformat_minor": 4
}
