{
 "cells": [
  {
   "cell_type": "code",
   "execution_count": 1,
   "metadata": {},
   "outputs": [],
   "source": [
    "def soap_loop(n, l, s): \n",
    "    vector = [] \n",
    "    for Z in range(s): # atomic numbers in increasing order: \n",
    "        for Z_ in range(s): #' in atomic numbers in increasing order: \n",
    "            for l in range(l+1): \n",
    "                for n in range(n): \n",
    "                    for n_ in range(n): \n",
    "                        if n_ >= n and Z_ >= Z: \n",
    "                            vector.append(Z) \n",
    "    print(len(vector), vector) \n"
   ]
  },
  {
   "cell_type": "code",
   "execution_count": 2,
   "metadata": {},
   "outputs": [
    {
     "name": "stdout",
     "output_type": "stream",
     "text": [
      "0 []\n"
     ]
    }
   ],
   "source": [
    "soap_loop(2, 0, 2)"
   ]
  },
  {
   "cell_type": "code",
   "execution_count": null,
   "metadata": {},
   "outputs": [],
   "source": []
  }
 ],
 "metadata": {
  "kernelspec": {
   "display_name": "Python 3",
   "language": "python",
   "name": "python3"
  },
  "language_info": {
   "codemirror_mode": {
    "name": "ipython",
    "version": 3
   },
   "file_extension": ".py",
   "mimetype": "text/x-python",
   "name": "python",
   "nbconvert_exporter": "python",
   "pygments_lexer": "ipython3",
   "version": "3.7.7"
  }
 },
 "nbformat": 4,
 "nbformat_minor": 4
}
